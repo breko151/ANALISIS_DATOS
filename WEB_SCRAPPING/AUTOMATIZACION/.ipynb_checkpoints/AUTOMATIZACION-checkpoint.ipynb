{
 "cells": [
  {
   "cell_type": "markdown",
   "id": "192d093f",
   "metadata": {},
   "source": [
    "# AUTOMATIZACION DE WEB SCRAPING\n",
    "Se busca automatizar el proceso para scrapear página de la página 'El País'"
   ]
  },
  {
   "cell_type": "code",
   "execution_count": 1,
   "id": "9c248e97",
   "metadata": {},
   "outputs": [],
   "source": [
    "# Importamos las bibliotecas necesarias\n",
    "import requests\n",
    "from bs4 import BeautifulSoup\n",
    "from IPython.display import Image"
   ]
  },
  {
   "cell_type": "code",
   "execution_count": 15,
   "id": "4b387a0d",
   "metadata": {},
   "outputs": [],
   "source": [
    "def url_reader(url, type_url = 'text'):\n",
    "    print(f'El Sitio es: {url}')\n",
    "    try:\n",
    "        site_connection = requests.get(url)\n",
    "        print(f'El Status Code es: {site_connection.status_code}')\n",
    "        if site_connection.status_code != 200: \n",
    "            return None\n",
    "        else:\n",
    "            if type_url == 'text':\n",
    "                print(f'Se retorna tipo: {type_url}')\n",
    "                return BeautifulSoup(site_connection.text, 'lxml')\n",
    "            else:\n",
    "                print(f'Se retorna tipo: {type_url}')\n",
    "                return BeautifulSoup(site_connection.content, 'lxml')\n",
    "    except Exception as e:\n",
    "        print(f'Se econtro el siguiente error: {e}')\n",
    "        return None"
   ]
  },
  {
   "cell_type": "code",
   "execution_count": 36,
   "id": "7dc6e707",
   "metadata": {},
   "outputs": [
    {
     "name": "stdout",
     "output_type": "stream",
     "text": [
      "El Sitio es: https://www.pagina12.com.ar\n",
      "El Status Code es: 200\n",
      "Se retorna tipo: text\n"
     ]
    }
   ],
   "source": [
    "url_site = 'https://www.pagina12.com.ar'\n",
    "site = url_reader(url_site)"
   ]
  },
  {
   "cell_type": "markdown",
   "id": "4b3621e5",
   "metadata": {},
   "source": [
    "## Obtenemos las Secciones del Sitio "
   ]
  },
  {
   "cell_type": "code",
   "execution_count": 49,
   "id": "8d39af1a",
   "metadata": {},
   "outputs": [],
   "source": [
    "def get_sections(url):\n",
    "    main_site = url_reader(url)\n",
    "    try: \n",
    "        if main_site:\n",
    "            print('Obteniendo Secciones')\n",
    "            sections = main_site.find('div', attrs = 'p12-dropdown-column').find_all('a')\n",
    "            sections_names = [section.get_text() for section in sections]\n",
    "            sections_urls = [section.get('href') for section in sections]\n",
    "            new_sections = {sections_names[i] : sections_urls[i] for i in range(len(sections_names))}\n",
    "            for k, v in new_sections.items():\n",
    "                print(f'{k}:  {v}')\n",
    "            return new_sections\n",
    "        else:\n",
    "            print(f'No se puede Scrapear: {url}')\n",
    "            return None\n",
    "    except Exception as e:\n",
    "        print(f'Se encontro el siguiente error: {e}')\n",
    "        return None"
   ]
  },
  {
   "cell_type": "code",
   "execution_count": 50,
   "id": "1bf3fa36",
   "metadata": {},
   "outputs": [
    {
     "name": "stdout",
     "output_type": "stream",
     "text": [
      "El Sitio es: https://www.pagina12.com.ar\n",
      "El Status Code es: 200\n",
      "Se retorna tipo: text\n",
      "Obteniendo Secciones\n",
      "El país:  https://www.pagina12.com.ar/secciones/el-pais\n",
      "Economía:  https://www.pagina12.com.ar/secciones/economia\n",
      "Sociedad:  https://www.pagina12.com.ar/secciones/sociedad\n",
      "Espectáculos:  https://www.pagina12.com.ar/suplementos/cultura-y-espectaculos\n",
      "Deportes:  https://www.pagina12.com.ar/secciones/deportes\n",
      "Ciencia:  https://www.pagina12.com.ar/secciones/ciencia\n",
      "El mundo:  https://www.pagina12.com.ar/secciones/el-mundo\n",
      "Edición impresa:  https://www.pagina12.com.ar/edicion-impresa\n",
      "Universidad:  https://www.pagina12.com.ar/secciones/universidad-diario\n",
      "Ajedrez:  https://www.pagina12.com.ar/secciones/ajedrez\n",
      "Cultura:  https://www.pagina12.com.ar/secciones/cultura\n",
      "Diálogos:  https://www.pagina12.com.ar/secciones/dialogos\n",
      "Plástica:  https://www.pagina12.com.ar/secciones/plastica\n",
      "Psicología:  https://www.pagina12.com.ar/secciones/psicologia\n",
      "Cartas de lectores:  https://www.pagina12.com.ar/secciones/cartas-de-lectores\n",
      "Contratapa:  https://www.pagina12.com.ar/secciones/contratapa\n",
      "Audiovisuales:  https://www.pagina12.com.ar/secciones/audiovisuales\n",
      "Recordatorios:  https://www.pagina12.com.ar/secciones/recordatorios\n",
      "Consumo:  https://www.pagina12.com.ar/secciones/consumo\n",
      "Salta12:  https://www.pagina12.com.ar/secciones/salta12\n",
      "Catamarca12:  https://www.pagina12.com.ar/secciones/catamarca12\n",
      "La Rioja12:  https://www.pagina12.com.ar/secciones/la-rioja12\n",
      "Podcasts:  https://www.pagina12.com.ar/secciones/podcasts\n",
      "Soci@s:  https://www.pagina12.com.ar/secciones/soci@s\n",
      "La ventana:  https://www.pagina12.com.ar/secciones/la-ventana\n"
     ]
    }
   ],
   "source": [
    "sections = get_sections(url_site)"
   ]
  },
  {
   "cell_type": "markdown",
   "id": "cacb1af9",
   "metadata": {},
   "source": [
    "## Obtenemos las Notas de cada Seccion"
   ]
  },
  {
   "cell_type": "code",
   "execution_count": 74,
   "id": "d8accf51",
   "metadata": {},
   "outputs": [],
   "source": [
    "def url_creator(url):\n",
    "    return lambda complement : url + complement if complement[0] == '/' else complement\n",
    "\n",
    "site_creator = url_creator(url_site)"
   ]
  },
  {
   "cell_type": "code",
   "execution_count": 86,
   "id": "e7f73333",
   "metadata": {},
   "outputs": [],
   "source": [
    "def get_news(name, url):\n",
    "    news_site = url_reader(url)\n",
    "    try:\n",
    "        if news_site:\n",
    "            news_names = []\n",
    "            news_links = []\n",
    "            primary_news = news_site.find_all('h2')\n",
    "            secundary_news = news_site.find_all('h3')\n",
    "            other_news = news_site.find_all('h4')\n",
    "            if primary_news:\n",
    "                for new in primary_news:\n",
    "                    news_names.append(new.a.get_text())\n",
    "                    news_links.append(site_creator(new.a.get('href')))\n",
    "            if secundary_news:\n",
    "                for new in primary_news:\n",
    "                    news_names.append(new.a.get_text())\n",
    "                    news_links.append(site_creator(new.a.get('href')))\n",
    "            if other_news:\n",
    "                for new in primary_news:\n",
    "                    news_names.append(new.a.get_text())\n",
    "                    news_links.append(site_creator(new.a.get('href')))\n",
    "            news = {news_names[i]: news_links[i] for i in range(len(news_names))}\n",
    "            for k, v in news.items():\n",
    "                print(f'{k}: {v}')\n",
    "            print('')\n",
    "            return news\n",
    "        else:\n",
    "            print(f'No se puede Scrapear la seccion: {name}')\n",
    "            return None\n",
    "    except Exception as e:\n",
    "        print(f'Se encontro el siguiente error: {e}')\n",
    "        return None"
   ]
  },
  {
   "cell_type": "code",
   "execution_count": 87,
   "id": "0458b9b0",
   "metadata": {},
   "outputs": [
    {
     "name": "stdout",
     "output_type": "stream",
     "text": [
      "El Sitio es: https://www.pagina12.com.ar\n",
      "El Status Code es: 200\n",
      "Se retorna tipo: text\n",
      "Obteniendo Secciones\n",
      "El país:  https://www.pagina12.com.ar/secciones/el-pais\n",
      "Economía:  https://www.pagina12.com.ar/secciones/economia\n",
      "Sociedad:  https://www.pagina12.com.ar/secciones/sociedad\n",
      "Espectáculos:  https://www.pagina12.com.ar/suplementos/cultura-y-espectaculos\n",
      "Deportes:  https://www.pagina12.com.ar/secciones/deportes\n",
      "Ciencia:  https://www.pagina12.com.ar/secciones/ciencia\n",
      "El mundo:  https://www.pagina12.com.ar/secciones/el-mundo\n",
      "Edición impresa:  https://www.pagina12.com.ar/edicion-impresa\n",
      "Universidad:  https://www.pagina12.com.ar/secciones/universidad-diario\n",
      "Ajedrez:  https://www.pagina12.com.ar/secciones/ajedrez\n",
      "Cultura:  https://www.pagina12.com.ar/secciones/cultura\n",
      "Diálogos:  https://www.pagina12.com.ar/secciones/dialogos\n",
      "Plástica:  https://www.pagina12.com.ar/secciones/plastica\n",
      "Psicología:  https://www.pagina12.com.ar/secciones/psicologia\n",
      "Cartas de lectores:  https://www.pagina12.com.ar/secciones/cartas-de-lectores\n",
      "Contratapa:  https://www.pagina12.com.ar/secciones/contratapa\n",
      "Audiovisuales:  https://www.pagina12.com.ar/secciones/audiovisuales\n",
      "Recordatorios:  https://www.pagina12.com.ar/secciones/recordatorios\n",
      "Consumo:  https://www.pagina12.com.ar/secciones/consumo\n",
      "Salta12:  https://www.pagina12.com.ar/secciones/salta12\n",
      "Catamarca12:  https://www.pagina12.com.ar/secciones/catamarca12\n",
      "La Rioja12:  https://www.pagina12.com.ar/secciones/la-rioja12\n",
      "Podcasts:  https://www.pagina12.com.ar/secciones/podcasts\n",
      "Soci@s:  https://www.pagina12.com.ar/secciones/soci@s\n",
      "La ventana:  https://www.pagina12.com.ar/secciones/la-ventana\n",
      "El Sitio es: https://www.pagina12.com.ar/secciones/el-pais\n",
      "El Status Code es: 200\n",
      "Se retorna tipo: text\n",
      "Evita, el recuerdo de un mito inalterable : https://www.pagina12.com.ar/440232-evita-el-recuerdo-de-un-mito-inalterable\n",
      "\n",
      "El Sitio es: https://www.pagina12.com.ar/secciones/economia\n",
      "El Status Code es: 200\n",
      "Se retorna tipo: text\n",
      "Batakis ratificó las metas del acuerdo con el FMI : https://www.pagina12.com.ar/440223-batakis-ratifico-las-metas-del-acuerdo-con-el-fmi\n",
      "\n",
      "El Sitio es: https://www.pagina12.com.ar/secciones/sociedad\n",
      "El Status Code es: 200\n",
      "Se retorna tipo: text\n",
      "Efemérides de hoy: qué pasó un 27 de julio: https://www.pagina12.com.ar/440220-efemerides-de-hoy-que-paso-un-27-de-julio\n",
      "\n",
      "El Sitio es: https://www.pagina12.com.ar/suplementos/cultura-y-espectaculos\n",
      "El Status Code es: 200\n",
      "Se retorna tipo: text\n",
      "Se encontro el siguiente error: 'NoneType' object has no attribute 'get_text'\n",
      "El Sitio es: https://www.pagina12.com.ar/secciones/deportes\n",
      "El Status Code es: 200\n",
      "Se retorna tipo: text\n",
      "Boca Juniors no quiere que Agustín Rossi se vaya y busca acercar posiciones : https://www.pagina12.com.ar/440152-boca-juniors-no-quiere-que-agustin-rossi-se-vaya-y-busca-ace\n",
      "\n",
      "El Sitio es: https://www.pagina12.com.ar/secciones/ciencia\n",
      "El Status Code es: 200\n",
      "Se retorna tipo: text\n",
      "Qué tienen los animales albinos y por qué son únicos: https://www.pagina12.com.ar/439159-que-tienen-los-animales-albinos-y-por-que-son-unicos\n",
      "\n",
      "El Sitio es: https://www.pagina12.com.ar/secciones/el-mundo\n",
      "El Status Code es: 200\n",
      "Se retorna tipo: text\n",
      "Los incendios forestales arrasan Grecia: https://www.pagina12.com.ar/440083-los-incendios-forestales-arrasan-grecia\n",
      "\n",
      "El Sitio es: https://www.pagina12.com.ar/edicion-impresa\n",
      "El Status Code es: 200\n",
      "Se retorna tipo: text\n",
      "Se encontro el siguiente error: 'NoneType' object has no attribute 'get_text'\n",
      "El Sitio es: https://www.pagina12.com.ar/secciones/universidad-diario\n",
      "El Status Code es: 200\n",
      "Se retorna tipo: text\n",
      "Se sancionó ley que crea la Universidad Provincial de Formosa  : https://www.pagina12.com.ar/433737-se-sanciono-ley-que-crea-la-universidad-provincial-de-formos\n",
      "\n",
      "El Sitio es: https://www.pagina12.com.ar/secciones/ajedrez\n",
      "El Status Code es: 200\n",
      "Se retorna tipo: text\n",
      "Ajedrez: un campeón que se dejó ganar para hacer justicia: https://www.pagina12.com.ar/275696-ajedrez-un-campeon-que-se-dejo-ganar-para-hacer-justicia\n",
      "\n",
      "El Sitio es: https://www.pagina12.com.ar/secciones/cultura\n",
      "El Status Code es: 200\n",
      "Se retorna tipo: text\n",
      "Vic Morrow, el actor que marcó una época con Combate y murió en la mayor tragedia de la historia de Hollywood: https://www.pagina12.com.ar/376577-vic-morrow-el-actor-que-marco-una-epoca-con-combate-y-murio-\n",
      "\n",
      "El Sitio es: https://www.pagina12.com.ar/secciones/dialogos\n",
      "El Status Code es: 200\n",
      "Se retorna tipo: text\n",
      "Lo que las mujeres escribieron y quedó invisibilizado: https://www.pagina12.com.ar/439590-lo-que-las-mujeres-escribieron-y-quedo-invisibilizado\n",
      "\n",
      "El Sitio es: https://www.pagina12.com.ar/secciones/plastica\n",
      "El Status Code es: 200\n",
      "Se retorna tipo: text\n",
      "A veinte años de la muerte de Víctor Grippo: https://www.pagina12.com.ar/439790-a-veinte-anos-de-la-muerte-de-victor-grippo\n",
      "\n",
      "El Sitio es: https://www.pagina12.com.ar/secciones/psicologia\n",
      "El Status Code es: 200\n",
      "Se retorna tipo: text\n",
      "El Freud argentino de la música: https://www.pagina12.com.ar/438665-el-freud-argentino-de-la-musica\n",
      "\n",
      "El Sitio es: https://www.pagina12.com.ar/secciones/cartas-de-lectores\n",
      "El Status Code es: 200\n",
      "Se retorna tipo: text\n",
      "Hombre de papel durmiendo: https://www.pagina12.com.ar/109397-hombre-de-papel-durmiendo\n",
      "\n",
      "El Sitio es: https://www.pagina12.com.ar/secciones/contratapa\n",
      "El Status Code es: 200\n",
      "Se retorna tipo: text\n",
      "La parábola de los poderosos y los débiles: https://www.pagina12.com.ar/440184-la-parabola-de-los-poderosos-y-los-debiles\n",
      "\n",
      "El Sitio es: https://www.pagina12.com.ar/secciones/audiovisuales\n",
      "El Status Code es: 200\n",
      "Se retorna tipo: text\n",
      "Música Esencial: Ale Gallo y Daniel De Vita: https://www.pagina12.com.ar/392368-musica-esencial-ale-gallo-y-daniel-de-vita\n",
      "\n",
      "El Sitio es: https://www.pagina12.com.ar/secciones/recordatorios\n",
      "El Status Code es: 200\n",
      "Se retorna tipo: text\n",
      "Rubén Adrián Benchoam, Carlos Vicente y Coca Pablo: https://www.pagina12.com.ar/439797-ruben-adrian-benchoam-carlos-vicente-y-coca-pablo\n",
      "\n",
      "El Sitio es: https://www.pagina12.com.ar/secciones/consumo\n",
      "El Status Code es: 200\n",
      "Se retorna tipo: text\n",
      "Goodyear y los neumáticos: más de 100 años de una historia increíble: https://www.pagina12.com.ar/311864-goodyear-y-los-neumaticos-mas-de-100-anos-de-una-historia-in\n",
      "\n",
      "El Sitio es: https://www.pagina12.com.ar/secciones/salta12\n",
      "El Status Code es: 200\n",
      "Se retorna tipo: text\n",
      "El día que Evita saludó desde el último vagón de un tren en Pampa de los Guanacos: https://www.pagina12.com.ar/440226-el-dia-que-evita-saludo-desde-el-ultimo-vagon-de-un-tren-en-\n",
      "\n",
      "El Sitio es: https://www.pagina12.com.ar/secciones/catamarca12\n",
      "El Status Code es: 200\n",
      "Se retorna tipo: text\n",
      "“Nos enseñó a movilizarnos por amor”: https://www.pagina12.com.ar/440214-nos-enseno-a-movilizarnos-por-amor\n",
      "\n",
      "El Sitio es: https://www.pagina12.com.ar/secciones/la-rioja12\n",
      "El Status Code es: 200\n",
      "Se retorna tipo: text\n",
      "Organismos de derechos humanos de La Rioja expresaron su preocupación  : https://www.pagina12.com.ar/439957-organismos-de-derechos-humanos-de-la-rioja-expresaron-su-pre\n",
      "\n",
      "El Sitio es: https://www.pagina12.com.ar/secciones/podcasts\n",
      "El Status Code es: 200\n",
      "Se retorna tipo: text\n",
      "El brindis con los socios de Página12: https://www.pagina12.com.ar/240289-el-brindis-con-los-socios-de-pagina-12\n",
      "\n",
      "El Sitio es: https://www.pagina12.com.ar/secciones/soci@s\n",
      "El Status Code es: 200\n",
      "Se retorna tipo: text\n",
      "Alud en Villa Huinid; ¿Accidente natural o falla humana prevenible?: https://www.pagina12.com.ar/437984-alud-en-villa-huinid-accidente-natural-o-falla-humana-preven\n",
      "\n",
      "El Sitio es: https://www.pagina12.com.ar/secciones/la-ventana\n",
      "El Status Code es: 200\n",
      "Se retorna tipo: text\n",
      "Proponen una ley anti fake news: https://www.pagina12.com.ar/439922-proponen-una-ley-anti-fake-news\n",
      "\n"
     ]
    }
   ],
   "source": [
    "def get_all_news(url):\n",
    "    sections = get_sections(url)\n",
    "    for k, v in sections.items():\n",
    "        get_news(k, v)\n",
    "        \n",
    "news = get_all_news(url_site)"
   ]
  },
  {
   "cell_type": "code",
   "execution_count": 81,
   "id": "d6af4356",
   "metadata": {},
   "outputs": [
    {
     "ename": "AttributeError",
     "evalue": "'NoneType' object has no attribute 'items'",
     "output_type": "error",
     "traceback": [
      "\u001b[1;31m---------------------------------------------------------------------------\u001b[0m",
      "\u001b[1;31mAttributeError\u001b[0m                            Traceback (most recent call last)",
      "\u001b[1;32mC:\\Users\\USUARI~1\\AppData\\Local\\Temp/ipykernel_15812/1227402533.py\u001b[0m in \u001b[0;36m<module>\u001b[1;34m\u001b[0m\n\u001b[1;32m----> 1\u001b[1;33m \u001b[1;32mfor\u001b[0m \u001b[0mk\u001b[0m\u001b[1;33m,\u001b[0m \u001b[0mv\u001b[0m \u001b[1;32min\u001b[0m \u001b[0mnews\u001b[0m\u001b[1;33m.\u001b[0m\u001b[0mitems\u001b[0m\u001b[1;33m(\u001b[0m\u001b[1;33m)\u001b[0m\u001b[1;33m:\u001b[0m\u001b[1;33m\u001b[0m\u001b[1;33m\u001b[0m\u001b[0m\n\u001b[0m\u001b[0;32m      2\u001b[0m     \u001b[0mprint\u001b[0m\u001b[1;33m(\u001b[0m\u001b[1;34mf'{k}: {v}'\u001b[0m\u001b[1;33m)\u001b[0m\u001b[1;33m\u001b[0m\u001b[1;33m\u001b[0m\u001b[0m\n",
      "\u001b[1;31mAttributeError\u001b[0m: 'NoneType' object has no attribute 'items'"
     ]
    }
   ],
   "source": [
    "for k, v in news.items():\n",
    "    print(f'{k}: {v}')"
   ]
  },
  {
   "cell_type": "code",
   "execution_count": 65,
   "id": "d39a72f1",
   "metadata": {},
   "outputs": [
    {
     "name": "stdout",
     "output_type": "stream",
     "text": [
      "1\n"
     ]
    }
   ],
   "source": [
    "a = []\n",
    "len(a)\n",
    "if len(a)==0:\n",
    "    print(1)"
   ]
  }
 ],
 "metadata": {
  "kernelspec": {
   "display_name": "Python 3 (ipykernel)",
   "language": "python",
   "name": "python3"
  },
  "language_info": {
   "codemirror_mode": {
    "name": "ipython",
    "version": 3
   },
   "file_extension": ".py",
   "mimetype": "text/x-python",
   "name": "python",
   "nbconvert_exporter": "python",
   "pygments_lexer": "ipython3",
   "version": "3.9.7"
  }
 },
 "nbformat": 4,
 "nbformat_minor": 5
}
