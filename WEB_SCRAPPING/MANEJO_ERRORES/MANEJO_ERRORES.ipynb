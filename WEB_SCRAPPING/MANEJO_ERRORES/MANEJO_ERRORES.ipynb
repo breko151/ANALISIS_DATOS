{
 "cells": [
  {
   "cell_type": "markdown",
   "id": "d1773d5c",
   "metadata": {},
   "source": [
    "# Beautiful Soup y Manejo de Errores\n",
    "Se busca obtener las noticas de las secciones de la página 'El País'"
   ]
  },
  {
   "cell_type": "code",
   "execution_count": 1,
   "id": "507a2822",
   "metadata": {},
   "outputs": [],
   "source": [
    "# Importamos las bibliotecas necesarias\n",
    "import requests\n",
    "from bs4 import BeautifulSoup"
   ]
  },
  {
   "cell_type": "code",
   "execution_count": 2,
   "id": "0fafb4dc",
   "metadata": {},
   "outputs": [
    {
     "data": {
      "text/plain": [
       "200"
      ]
     },
     "execution_count": 2,
     "metadata": {},
     "output_type": "execute_result"
    }
   ],
   "source": [
    "# Realizamos la conexión con la página web\n",
    "url = 'https://elpais.com'\n",
    "elpais = requests.get(url + '/mexico')\n",
    "elpais.status_code"
   ]
  },
  {
   "cell_type": "code",
   "execution_count": 3,
   "id": "f7f55a85",
   "metadata": {},
   "outputs": [
    {
     "data": {
      "text/plain": [
       "bs4.BeautifulSoup"
      ]
     },
     "execution_count": 3,
     "metadata": {},
     "output_type": "execute_result"
    }
   ],
   "source": [
    "# Generamos la Sopa\n",
    "elpais_s = BeautifulSoup(elpais.text, 'lxml')\n",
    "type(elpais_s)"
   ]
  },
  {
   "cell_type": "markdown",
   "id": "8d1b7fb5",
   "metadata": {},
   "source": [
    "## Obtención de Títulos y Enlaces de las Secciones "
   ]
  },
  {
   "cell_type": "code",
   "execution_count": 4,
   "id": "e3888e86",
   "metadata": {},
   "outputs": [],
   "source": [
    "sections = elpais_s.find('div', attrs = {'id' : 'csw'}).div.nav.div.find_all('a')"
   ]
  },
  {
   "cell_type": "code",
   "execution_count": 5,
   "id": "c2741c99",
   "metadata": {},
   "outputs": [
    {
     "name": "stdout",
     "output_type": "stream",
     "text": [
      "Internacional :  https://elpais.com/internacional/\n",
      "México :  https://elpais.com/mexico/actualidad/\n",
      "Opinión :  https://elpais.com/mexico/opinion/\n",
      "Sociedad :  https://elpais.com/mexico/sociedad/\n",
      "Economía :  https://elpais.com/mexico/economia/\n",
      "Ciencia :  https://elpais.com/ciencia/\n",
      "Salud :  https://elpais.com/salud-y-bienestar/\n",
      "Tecnología :  https://elpais.com/tecnologia/\n",
      "Cultura :  https://elpais.com/cultura/\n",
      "Deportes :  https://elpais.com/deportes/\n",
      "Estilo :  https://elpais.com/america/estilo/\n"
     ]
    }
   ],
   "source": [
    "headers = [section.get_text() for section in sections]\n",
    "links = [url + section.get('href') if section.get('href')[0] == '/' else section.get('href') for section in sections]\n",
    "for i in range(len(headers)):\n",
    "    print(headers[i], ': ', links[i])"
   ]
  },
  {
   "cell_type": "markdown",
   "id": "c68ebedd",
   "metadata": {},
   "source": [
    "## Obtención de Noticias de cada Sección "
   ]
  },
  {
   "cell_type": "code",
   "execution_count": 8,
   "id": "3c7c95bf",
   "metadata": {},
   "outputs": [],
   "source": [
    "def get_news(link):\n",
    "    try:\n",
    "        new_page = requests.get(link)\n",
    "        print('Status Code: ', new_page.status_code)\n",
    "        section_s = BeautifulSoup(new_page.text, 'lxml')\n",
    "        news = section_s.find('section', attrs = {'class' : '_g _g-md _g-o b b-d b--o'}).find_all('article')\n",
    "        if type(news) != 'NoneType':\n",
    "            titles = [new.header.h2.a.get_text() for new in news]\n",
    "            links = [url + new.header.h2.a.get('href') if new.header.h2.a.get('href')[0] == '/' else new.header.h2.a.get('href') for new in news]\n",
    "            for i in range(len(links)):\n",
    "                print(titles[i], ': ', links[i])\n",
    "        else:\n",
    "            print('No se pudieron extraer noticias')\n",
    "    except Exception as e:\n",
    "        print('Error', ': ', e)"
   ]
  },
  {
   "cell_type": "code",
   "execution_count": 9,
   "id": "f0b02147",
   "metadata": {},
   "outputs": [
    {
     "name": "stdout",
     "output_type": "stream",
     "text": [
      "Internacional :  https://elpais.com/internacional/\n",
      "Status Code:  200\n",
      "Italia se asoma a otra crisis de gobierno :  https://elpais.com/internacional/2022-07-13/italia-se-asoma-a-otra-crisis-de-gobierno.html\n",
      "Biden reafirma en Israel el “compromiso inquebrantable” con su seguridad :  https://elpais.com/internacional/2022-07-13/biden-reafirma-en-jerusalen-el-compromiso-inquebrantable-con-la-seguridad-de-israel.html\n",
      "Ucrania y Rusia logran los primeros avances en la negociación para desbloquear el cereal ucranio :  https://elpais.com/internacional/2022-07-13/ucrania-y-rusia-logran-los-primeros-avances-en-la-negociacion-para-desbloquear-el-cereal-ucranio.html\n",
      "Lo que el Pacífico le debe a Abe :  https://elpais.com/opinion/2022-07-13/lo-que-el-pacifico-le-debe-a-abe.html\n",
      "La guerra de Ucrania durará :  https://elpais.com/opinion/2022-07-11/la-guerra-de-ucrania-durara.html\n",
      "Goodbye, Boris? :  https://elpais.com/internacional/2022-07-10/goodbye-boris.html\n",
      "Shinzo Abe transformó y transformará Japón :  https://elpais.com/opinion/2022-07-09/shinzo-abe-transformo-y-transformara-japon.html\n",
      "Un magnicidio inusual que hace sentir a los japoneses vulnerables  :  https://elpais.com/internacional/2022-07-08/un-magnicidio-inusual-que-hace-sentir-a-los-japoneses-inseguros-y-vulnerables.html\n",
      " \n",
      "México :  https://elpais.com/mexico/actualidad/\n",
      "Status Code:  200\n",
      "Error :  'NoneType' object has no attribute 'find_all'\n",
      " \n",
      "Opinión :  https://elpais.com/mexico/opinion/\n",
      "Status Code:  200\n",
      "Error :  'NoneType' object has no attribute 'find_all'\n",
      " \n",
      "Sociedad :  https://elpais.com/mexico/sociedad/\n",
      "Status Code:  200\n",
      "Error :  'NoneType' object has no attribute 'find_all'\n",
      " \n",
      "Economía :  https://elpais.com/mexico/economia/\n",
      "Status Code:  200\n",
      "Error :  'NoneType' object has no attribute 'find_all'\n",
      " \n",
      "Ciencia :  https://elpais.com/ciencia/\n",
      "Status Code:  200\n",
      "Error :  'NoneType' object has no attribute 'find_all'\n",
      " \n",
      "Salud :  https://elpais.com/salud-y-bienestar/\n",
      "Status Code:  200\n",
      "Error :  'NoneType' object has no attribute 'find_all'\n",
      " \n",
      "Tecnología :  https://elpais.com/tecnologia/\n",
      "Status Code:  200\n",
      "Error :  'NoneType' object has no attribute 'find_all'\n",
      " \n",
      "Cultura :  https://elpais.com/cultura/\n",
      "Status Code:  200\n",
      "Dos generaciones de periodistas ante la crisis de la profesión: “Ningún tiempo pasado fue mejor” :  https://elpais.com/cultura/2022-07-13/dos-generaciones-de-periodistas-ante-la-crisis-de-la-profesion-ningun-tiempo-pasado-fue-mejor.html\n",
      "Irán encarcela a Jafar Panahi, Mohammad Rasoulof y Mostafa Al-Ahmad, tres de sus cineastas más aclamados :  https://elpais.com/cultura/2022-07-13/iran-encarcela-a-jafar-panahi-mohammad-rasoulof-y-mostafa-al-ahmad-tres-de-sus-cineastas-mas-aclamados.html\n",
      "La cancelación del festival Diversity deja a Valencia sin la actuación de Iggy Pop, Christina Aguilera y Karol G  :  https://elpais.com/espana/comunidad-valenciana/2022-07-13/la-cancelacion-del-festival-diversity-deja-a-valencia-sin-la-actuacion-de-iggy-pop-christina-aguilera-y-karol-g.html\n",
      "El libro que vendrá :  https://elpais.com/cultura/2022-07-12/el-libro-que-vendra.html\n",
      "Fallecimiento de José Guirao: Con las alas de la cultura :  https://elpais.com/cultura/2022-07-12/fallecimiento-de-jose-guirao-con-las-alas-de-la-cultura.html\n",
      "Muerte de José Guirao: Poner nombre a los árboles \t\t  :  https://elpais.com/cultura/2022-07-11/muerte-de-jose-guirao-poner-nombre-a-los-arboles.html\n",
      "Fallecimiento de José Guirao: A tu sonrisa, Pepe :  https://elpais.com/cultura/2022-07-11/fallecimiento-de-jose-guirao-a-tu-sonrisa-pepe.html\n",
      " \n",
      "Deportes :  https://elpais.com/deportes/\n",
      "Status Code:  200\n",
      "Vingegaard derrota a Pogacar en la primera gran etapa del Tour de Francia :  https://elpais.com/deportes/2022-07-13/vingegaard-nuevo-lider-del-tour-despues-del-hundimiento-de-pogacar.html\n",
      "Último día de amarillo en los Alpes para Pogacar :  https://elpais.com/deportes/2022-07-13/ultimo-dia-de-amarillo-en-los-alpes-para-pogacar.html\n",
      "Los penalti-córners de Australia condenan a España en el Mundial de hockey hierba :  https://elpais.com/deportes/2022-07-13/los-penalti-corners-de-australia-condenan-a-espana-en-el-mundial-de-hockey-hierba.html\n",
      "Las tribulaciones de Cristiano Ronaldo pasan por Qatar   :  https://elpais.com/deportes/2022-07-12/las-tribulaciones-de-cristiano-ronaldo-pasan-por-qatar.html\n",
      "Cuánto tarda en hervir un Tour :  https://elpais.com/deportes/2022-07-11/cuanto-tarda-en-hervir-un-tour.html\n",
      "El tenis es, ante todo, repetición :  https://elpais.com/deportes/2022-07-10/el-tenis-es-ante-todo-repeticion.html\n",
      "El desorden es la baza de Kyrgios :  https://elpais.com/deportes/2022-07-10/el-desorden-es-la-baza-de-kyrgios.html\n",
      " \n",
      "Estilo :  https://elpais.com/america/estilo/\n",
      "Status Code:  200\n",
      "Error :  'NoneType' object has no attribute 'find_all'\n",
      " \n"
     ]
    }
   ],
   "source": [
    "for i in range(len(links)):\n",
    "    print(headers[i], ': ', links[i])\n",
    "    get_news(links[i])\n",
    "    print(\" \")"
   ]
  }
 ],
 "metadata": {
  "kernelspec": {
   "display_name": "Python 3 (ipykernel)",
   "language": "python",
   "name": "python3"
  },
  "language_info": {
   "codemirror_mode": {
    "name": "ipython",
    "version": 3
   },
   "file_extension": ".py",
   "mimetype": "text/x-python",
   "name": "python",
   "nbconvert_exporter": "python",
   "pygments_lexer": "ipython3",
   "version": "3.9.7"
  }
 },
 "nbformat": 4,
 "nbformat_minor": 5
}
