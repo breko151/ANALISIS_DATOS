{
 "cells": [
  {
   "cell_type": "markdown",
   "id": "6d7d8659",
   "metadata": {},
   "source": [
    "# Beautiful Soup para Análisis de Página 12 "
   ]
  },
  {
   "cell_type": "code",
   "execution_count": 1,
   "id": "3da15620",
   "metadata": {},
   "outputs": [],
   "source": [
    "# Importamos bibliotecas\n",
    "import requests\n",
    "from bs4 import BeautifulSoup"
   ]
  },
  {
   "cell_type": "code",
   "execution_count": 2,
   "id": "8cedfa06",
   "metadata": {},
   "outputs": [
    {
     "data": {
      "text/plain": [
       "200"
      ]
     },
     "execution_count": 2,
     "metadata": {},
     "output_type": "execute_result"
    }
   ],
   "source": [
    "# Hacemos nuestra conexión con requests\n",
    "url = \"https://www.pagina12.com.ar\"\n",
    "p12 = requests.get(url)\n",
    "p12.status_code"
   ]
  },
  {
   "cell_type": "code",
   "execution_count": 3,
   "id": "6c4d8c36",
   "metadata": {},
   "outputs": [
    {
     "data": {
      "text/plain": [
       "bs4.BeautifulSoup"
      ]
     },
     "execution_count": 3,
     "metadata": {},
     "output_type": "execute_result"
    }
   ],
   "source": [
    "# Generamos nuestra Sopa con 'lxml' como Parse\n",
    "s = BeautifulSoup(p12.text, 'lxml')\n",
    "type(s)"
   ]
  },
  {
   "cell_type": "code",
   "execution_count": 4,
   "id": "fcfb8b55",
   "metadata": {
    "scrolled": false
   },
   "outputs": [],
   "source": [
    "# Observamos el resultado obtenido\n",
    "# print(s.prettify())"
   ]
  },
  {
   "cell_type": "markdown",
   "id": "292c1151",
   "metadata": {},
   "source": [
    "## Obtención de Títulos de las Secciones y de los Enlaces\n",
    "Se desea obtener los enlaces y títulos de la página principal de Página 12"
   ]
  },
  {
   "cell_type": "code",
   "execution_count": 5,
   "id": "de6ee4ed",
   "metadata": {},
   "outputs": [],
   "source": [
    "# Obtenemos las secciones de la página principal\n",
    "sections = s.find('ul', attrs = {'class': 'horizontal-list main-sections hide-on-dropdown'}).find_all('li')"
   ]
  },
  {
   "cell_type": "code",
   "execution_count": 6,
   "id": "5def5dc9",
   "metadata": {},
   "outputs": [
    {
     "name": "stdout",
     "output_type": "stream",
     "text": [
      "https://www.pagina12.com.ar/secciones/el-pais\n",
      "https://www.pagina12.com.ar/secciones/economia\n",
      "https://www.pagina12.com.ar/secciones/sociedad\n",
      "https://www.pagina12.com.ar/suplementos/cultura-y-espectaculos\n",
      "https://www.pagina12.com.ar/secciones/deportes\n",
      "https://www.pagina12.com.ar/secciones/el-mundo\n",
      "https://www.pagina12.com.ar/secciones/contratapa\n"
     ]
    }
   ],
   "source": [
    "# Obtenemos los enlaces de cada una de las secciones\n",
    "links = [section.find('a').get('href') for section in sections]\n",
    "for link in links:\n",
    "    print(link)"
   ]
  },
  {
   "cell_type": "code",
   "execution_count": 7,
   "id": "9df991a3",
   "metadata": {},
   "outputs": [
    {
     "name": "stdout",
     "output_type": "stream",
     "text": [
      "El país\n",
      "Economía\n",
      "Sociedad\n",
      "Cultura y Espectáculos\n",
      "Deportes\n",
      "El mundo\n",
      "Contratapa\n"
     ]
    }
   ],
   "source": [
    "# Obtenemos los encabezasos de cada una de las secciones\n",
    "headers = [section.find('a').get_text() for section in sections]\n",
    "for header in headers:\n",
    "    print(header)"
   ]
  },
  {
   "cell_type": "code",
   "execution_count": 8,
   "id": "904f9efa",
   "metadata": {},
   "outputs": [
    {
     "name": "stdout",
     "output_type": "stream",
     "text": [
      "El país    https://www.pagina12.com.ar/secciones/el-pais\n",
      "Economía    https://www.pagina12.com.ar/secciones/economia\n",
      "Sociedad    https://www.pagina12.com.ar/secciones/sociedad\n",
      "Cultura y Espectáculos    https://www.pagina12.com.ar/suplementos/cultura-y-espectaculos\n",
      "Deportes    https://www.pagina12.com.ar/secciones/deportes\n",
      "El mundo    https://www.pagina12.com.ar/secciones/el-mundo\n",
      "Contratapa    https://www.pagina12.com.ar/secciones/contratapa\n"
     ]
    }
   ],
   "source": [
    "# Imprimimos el titular con su respectivo enlace de cada sección\n",
    "for i in range(len(headers)):\n",
    "    print(headers[i] + \"    \" + links[i])"
   ]
  },
  {
   "cell_type": "markdown",
   "id": "89503b64",
   "metadata": {},
   "source": [
    "## Obtención de las Noticias Promocionadas de las Secciones El País y Economía\n",
    "Se busca obtener las noticias promocionadas de la sección 'El País' y 'Economía'"
   ]
  },
  {
   "cell_type": "code",
   "execution_count": 9,
   "id": "77c9a6c1",
   "metadata": {},
   "outputs": [],
   "source": [
    "# Generamos una función que nos permita extraer las noticias de cada Sección\n",
    "def get_news(link):\n",
    "    # Hacemos la conexión con la página\n",
    "    section = requests.get(link)\n",
    "    print(section.status_code)\n",
    "    # Generamos la sopa\n",
    "    s_section = BeautifulSoup(section.text, 'lxml')\n",
    "    # Obtenemos la noticia promocionada\n",
    "    promoted_item = s_section.find('article', attrs = {'class': 'article-item article-item--main'})\n",
    "    # Obtenemos el enlace de la noticia promocionada\n",
    "    promoted_link = url + promoted_item.a.get('href')\n",
    "    # Obtenemos el encabezado de la noticia promocionada\n",
    "    promoted_header = promoted_item.find('div', attrs = {'class': 'article-item__content-footer-wrapper gutter-small deco-bar-here-left is-mobile-top'}).div.h2.a.get_text()\n",
    "    # Obtenemos el quicker de la noticia promocionda\n",
    "    promoted_quicker = promoted_item.find('div', attrs = {'class': 'article-item__content-footer-wrapper gutter-small deco-bar-here-left is-mobile-top'}).div.p.a.get_text()\n",
    "    print(promoted_header)\n",
    "    print(promoted_quicker)\n",
    "    print(promoted_link)"
   ]
  },
  {
   "cell_type": "code",
   "execution_count": 10,
   "id": "04590a97",
   "metadata": {},
   "outputs": [
    {
     "name": "stdout",
     "output_type": "stream",
     "text": [
      "El país: https://www.pagina12.com.ar/secciones/el-pais\n",
      "200\n",
      "Murió Carlos Quintana, histórico dirigente de UPCN\n",
      "Era secretario general del gremio en la provincia de Buenos Aires\n",
      "https://www.pagina12.com.ar/436759-murio-carlos-quintana-historico-dirigente-de-upcn\n",
      "\n",
      "Economía: https://www.pagina12.com.ar/secciones/economia\n",
      "200\n",
      "Dólar blue hoy: a cuánto cotiza el miércoles 13 de julio\n",
      "Dólar blue hoy: a cuánto cotiza el miércoles 13 de julio\n",
      "https://www.pagina12.com.ar/436737-dolar-blue-hoy-a-cuanto-cotiza-el-miercoles-13-de-julio\n",
      "\n"
     ]
    }
   ],
   "source": [
    "for i in range(2):\n",
    "    print(headers[i] + \": \" + links[i])\n",
    "    get_news(links[i])\n",
    "    print(\"\")"
   ]
  }
 ],
 "metadata": {
  "kernelspec": {
   "display_name": "Python 3 (ipykernel)",
   "language": "python",
   "name": "python3"
  },
  "language_info": {
   "codemirror_mode": {
    "name": "ipython",
    "version": 3
   },
   "file_extension": ".py",
   "mimetype": "text/x-python",
   "name": "python",
   "nbconvert_exporter": "python",
   "pygments_lexer": "ipython3",
   "version": "3.9.7"
  }
 },
 "nbformat": 4,
 "nbformat_minor": 5
}
