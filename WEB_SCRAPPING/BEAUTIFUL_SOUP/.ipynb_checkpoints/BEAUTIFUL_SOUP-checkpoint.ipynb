{
 "cells": [
  {
   "cell_type": "markdown",
   "id": "6d7d8659",
   "metadata": {},
   "source": [
    "# Beautiful Soup para Análisis de Página 12 "
   ]
  },
  {
   "cell_type": "code",
   "execution_count": 1,
   "id": "3da15620",
   "metadata": {},
   "outputs": [],
   "source": [
    "# Importamos bibliotecas\n",
    "import requests\n",
    "from bs4 import BeautifulSoup"
   ]
  },
  {
   "cell_type": "code",
   "execution_count": 2,
   "id": "8cedfa06",
   "metadata": {},
   "outputs": [
    {
     "data": {
      "text/plain": [
       "200"
      ]
     },
     "execution_count": 2,
     "metadata": {},
     "output_type": "execute_result"
    }
   ],
   "source": [
    "# Hacemos nuestra conexión con requests\n",
    "url = \"https://www.pagina12.com.ar\"\n",
    "p12 = requests.get(url)\n",
    "p12.status_code"
   ]
  },
  {
   "cell_type": "code",
   "execution_count": 3,
   "id": "6c4d8c36",
   "metadata": {},
   "outputs": [
    {
     "data": {
      "text/plain": [
       "bs4.BeautifulSoup"
      ]
     },
     "execution_count": 3,
     "metadata": {},
     "output_type": "execute_result"
    }
   ],
   "source": [
    "# Generamos nuestra Sopa con 'lxml' como Parse\n",
    "s = BeautifulSoup(p12.text, 'lxml')\n",
    "type(s)"
   ]
  },
  {
   "cell_type": "code",
   "execution_count": 4,
   "id": "fcfb8b55",
   "metadata": {
    "scrolled": false
   },
   "outputs": [],
   "source": [
    "# Observamos el resultado obtenido\n",
    "# print(s.prettify())"
   ]
  },
  {
   "cell_type": "markdown",
   "id": "292c1151",
   "metadata": {},
   "source": [
    "## Obtención de Títulos de las Secciones y de los Enlaces\n",
    "Se desea obtener los enlaces y títulos de la página principal de Página 12"
   ]
  },
  {
   "cell_type": "code",
   "execution_count": 5,
   "id": "de6ee4ed",
   "metadata": {},
   "outputs": [
    {
     "data": {
      "text/plain": [
       "[<li class=\"p12-separator--right--primary\"><a href=\"https://www.pagina12.com.ar/secciones/el-pais\">El país</a></li>,\n",
       " <li class=\"p12-separator--right--primary\"><a href=\"https://www.pagina12.com.ar/secciones/economia\">Economía</a></li>,\n",
       " <li class=\"p12-separator--right--primary\"><a href=\"https://www.pagina12.com.ar/secciones/sociedad\">Sociedad</a></li>,\n",
       " <li class=\"no-separator-on-1040 p12-separator--right--primary\"><a href=\"https://www.pagina12.com.ar/suplementos/cultura-y-espectaculos\">Cultura y Espectáculos</a></li>,\n",
       " <li class=\"hide-on-1040 p12-separator--right--primary\"><a href=\"https://www.pagina12.com.ar/secciones/deportes\">Deportes</a></li>,\n",
       " <li class=\"hide-on-1040 p12-separator--right--primary\"><a href=\"https://www.pagina12.com.ar/secciones/el-mundo\">El mundo</a></li>,\n",
       " <li class=\"hide-on-1040\"><a href=\"https://www.pagina12.com.ar/secciones/plastica\">Plástica</a></li>]"
      ]
     },
     "execution_count": 5,
     "metadata": {},
     "output_type": "execute_result"
    }
   ],
   "source": [
    "# Obtenemos las secciones de la página principal\n",
    "sections = s.find('ul', attrs = {'class': 'horizontal-list main-sections hide-on-dropdown'}).find_all('li')\n",
    "sections"
   ]
  },
  {
   "cell_type": "code",
   "execution_count": 6,
   "id": "5def5dc9",
   "metadata": {},
   "outputs": [
    {
     "name": "stdout",
     "output_type": "stream",
     "text": [
      "https://www.pagina12.com.ar/secciones/el-pais\n",
      "https://www.pagina12.com.ar/secciones/economia\n",
      "https://www.pagina12.com.ar/secciones/sociedad\n",
      "https://www.pagina12.com.ar/suplementos/cultura-y-espectaculos\n",
      "https://www.pagina12.com.ar/secciones/deportes\n",
      "https://www.pagina12.com.ar/secciones/el-mundo\n",
      "https://www.pagina12.com.ar/secciones/plastica\n"
     ]
    }
   ],
   "source": [
    "# Obtenemos los enlaces de cada una de las secciones\n",
    "links = [section.find('a').get('href') for section in sections]\n",
    "for link in links:\n",
    "    print(link)"
   ]
  },
  {
   "cell_type": "code",
   "execution_count": 7,
   "id": "9df991a3",
   "metadata": {},
   "outputs": [
    {
     "name": "stdout",
     "output_type": "stream",
     "text": [
      "El país\n",
      "Economía\n",
      "Sociedad\n",
      "Cultura y Espectáculos\n",
      "Deportes\n",
      "El mundo\n",
      "Plástica\n"
     ]
    }
   ],
   "source": [
    "# Obtenemos los encabezasos de cada una de las secciones\n",
    "headers = [section.find('a').get_text() for section in sections]\n",
    "for header in headers:\n",
    "    print(header)"
   ]
  },
  {
   "cell_type": "code",
   "execution_count": 8,
   "id": "904f9efa",
   "metadata": {},
   "outputs": [
    {
     "name": "stdout",
     "output_type": "stream",
     "text": [
      "El país    https://www.pagina12.com.ar/secciones/el-pais\n",
      "Economía    https://www.pagina12.com.ar/secciones/economia\n",
      "Sociedad    https://www.pagina12.com.ar/secciones/sociedad\n",
      "Cultura y Espectáculos    https://www.pagina12.com.ar/suplementos/cultura-y-espectaculos\n",
      "Deportes    https://www.pagina12.com.ar/secciones/deportes\n",
      "El mundo    https://www.pagina12.com.ar/secciones/el-mundo\n",
      "Plástica    https://www.pagina12.com.ar/secciones/plastica\n"
     ]
    }
   ],
   "source": [
    "# Imprimimos el titular con su respectivo enlace de cada sección\n",
    "for i in range(len(headers)):\n",
    "    print(headers[i] + \"    \" + links[i])"
   ]
  },
  {
   "cell_type": "markdown",
   "id": "89503b64",
   "metadata": {},
   "source": [
    "## Obtención de las Noticias Promocionadas de las Secciones El País y Economía\n",
    "Se busca obtener las noticias promocionadas de la sección 'El País' y 'Economía'"
   ]
  },
  {
   "cell_type": "code",
   "execution_count": 9,
   "id": "77c9a6c1",
   "metadata": {},
   "outputs": [],
   "source": [
    "# Generamos una función que nos permita extraer las noticias de cada Sección\n",
    "def get_news(link):\n",
    "    # Hacemos la conexión con la página\n",
    "    section = requests.get(link)\n",
    "    print(section.status_code)\n",
    "    # Generamos la sopa\n",
    "    s_section = BeautifulSoup(section.text, 'lxml')\n",
    "    # Obtenemos la noticia promocionada\n",
    "    promoted_item = s_section.find('article', attrs = {'class': 'article-item article-item--main'})\n",
    "    # Obtenemos el enlace de la noticia promocionada\n",
    "    promoted_link = url + promoted_item.a.get('href')\n",
    "    # Obtenemos el encabezado de la noticia promocionada\n",
    "    promoted_header = promoted_item.find('div', attrs = {'class': 'article-item__content-footer-wrapper gutter-small deco-bar-here-left is-mobile-top'}).div.h2.a.get_text()\n",
    "    # Obtenemos el quicker de la noticia promocionda\n",
    "    promoted_quicker = promoted_item.find('div', attrs = {'class': 'article-item__content-footer-wrapper gutter-small deco-bar-here-left is-mobile-top'}).div.p.a.get_text()\n",
    "    print(promoted_header)\n",
    "    print(promoted_quicker)\n",
    "    print(promoted_link)"
   ]
  },
  {
   "cell_type": "code",
   "execution_count": 11,
   "id": "04590a97",
   "metadata": {},
   "outputs": [
    {
     "name": "stdout",
     "output_type": "stream",
     "text": [
      "El país: https://www.pagina12.com.ar/secciones/el-pais\n",
      "200\n",
      "La tumba de Evita Perón, donde el color de las flores avisa que todavía hay vida\n",
      "La devoción popular en el cementerio de la Recoleta\n",
      "https://www.pagina12.com.ar/440225-la-tumba-de-evita-peron-donde-el-color-de-las-flores-avisa-q\n",
      "\n",
      "Economía: https://www.pagina12.com.ar/secciones/economia\n",
      "200\n",
      "Batakis ratificó las metas del acuerdo con el FMI \n",
      "La ministra cerró su visita a Washington y vuelve a Buenos Aires \n",
      "https://www.pagina12.com.ar/440223-batakis-ratifico-las-metas-del-acuerdo-con-el-fmi\n",
      "\n",
      "Sociedad: https://www.pagina12.com.ar/secciones/sociedad\n",
      "200\n",
      "Diez allanamientos\n",
      "Rosario\n",
      "https://www.pagina12.com.ar/440187-diez-allanamientos\n",
      "\n",
      "Cultura y Espectáculos: https://www.pagina12.com.ar/suplementos/cultura-y-espectaculos\n",
      "200\n"
     ]
    },
    {
     "ename": "AttributeError",
     "evalue": "'NoneType' object has no attribute 'a'",
     "output_type": "error",
     "traceback": [
      "\u001b[1;31m---------------------------------------------------------------------------\u001b[0m",
      "\u001b[1;31mAttributeError\u001b[0m                            Traceback (most recent call last)",
      "\u001b[1;32mC:\\Users\\USUARI~1\\AppData\\Local\\Temp/ipykernel_16272/3067856364.py\u001b[0m in \u001b[0;36m<module>\u001b[1;34m\u001b[0m\n\u001b[0;32m      1\u001b[0m \u001b[1;32mfor\u001b[0m \u001b[0mi\u001b[0m \u001b[1;32min\u001b[0m \u001b[0mrange\u001b[0m\u001b[1;33m(\u001b[0m\u001b[0mlen\u001b[0m\u001b[1;33m(\u001b[0m\u001b[0mheaders\u001b[0m\u001b[1;33m)\u001b[0m\u001b[1;33m)\u001b[0m\u001b[1;33m:\u001b[0m\u001b[1;33m\u001b[0m\u001b[1;33m\u001b[0m\u001b[0m\n\u001b[0;32m      2\u001b[0m     \u001b[0mprint\u001b[0m\u001b[1;33m(\u001b[0m\u001b[0mheaders\u001b[0m\u001b[1;33m[\u001b[0m\u001b[0mi\u001b[0m\u001b[1;33m]\u001b[0m \u001b[1;33m+\u001b[0m \u001b[1;34m\": \"\u001b[0m \u001b[1;33m+\u001b[0m \u001b[0mlinks\u001b[0m\u001b[1;33m[\u001b[0m\u001b[0mi\u001b[0m\u001b[1;33m]\u001b[0m\u001b[1;33m)\u001b[0m\u001b[1;33m\u001b[0m\u001b[1;33m\u001b[0m\u001b[0m\n\u001b[1;32m----> 3\u001b[1;33m     \u001b[0mget_news\u001b[0m\u001b[1;33m(\u001b[0m\u001b[0mlinks\u001b[0m\u001b[1;33m[\u001b[0m\u001b[0mi\u001b[0m\u001b[1;33m]\u001b[0m\u001b[1;33m)\u001b[0m\u001b[1;33m\u001b[0m\u001b[1;33m\u001b[0m\u001b[0m\n\u001b[0m\u001b[0;32m      4\u001b[0m     \u001b[0mprint\u001b[0m\u001b[1;33m(\u001b[0m\u001b[1;34m\"\"\u001b[0m\u001b[1;33m)\u001b[0m\u001b[1;33m\u001b[0m\u001b[1;33m\u001b[0m\u001b[0m\n",
      "\u001b[1;32mC:\\Users\\USUARI~1\\AppData\\Local\\Temp/ipykernel_16272/2173809860.py\u001b[0m in \u001b[0;36mget_news\u001b[1;34m(link)\u001b[0m\n\u001b[0;32m      9\u001b[0m     \u001b[0mpromoted_item\u001b[0m \u001b[1;33m=\u001b[0m \u001b[0ms_section\u001b[0m\u001b[1;33m.\u001b[0m\u001b[0mfind\u001b[0m\u001b[1;33m(\u001b[0m\u001b[1;34m'article'\u001b[0m\u001b[1;33m,\u001b[0m \u001b[0mattrs\u001b[0m \u001b[1;33m=\u001b[0m \u001b[1;33m{\u001b[0m\u001b[1;34m'class'\u001b[0m\u001b[1;33m:\u001b[0m \u001b[1;34m'article-item article-item--main'\u001b[0m\u001b[1;33m}\u001b[0m\u001b[1;33m)\u001b[0m\u001b[1;33m\u001b[0m\u001b[1;33m\u001b[0m\u001b[0m\n\u001b[0;32m     10\u001b[0m     \u001b[1;31m# Obtenemos el enlace de la noticia promocionada\u001b[0m\u001b[1;33m\u001b[0m\u001b[1;33m\u001b[0m\u001b[0m\n\u001b[1;32m---> 11\u001b[1;33m     \u001b[0mpromoted_link\u001b[0m \u001b[1;33m=\u001b[0m \u001b[0murl\u001b[0m \u001b[1;33m+\u001b[0m \u001b[0mpromoted_item\u001b[0m\u001b[1;33m.\u001b[0m\u001b[0ma\u001b[0m\u001b[1;33m.\u001b[0m\u001b[0mget\u001b[0m\u001b[1;33m(\u001b[0m\u001b[1;34m'href'\u001b[0m\u001b[1;33m)\u001b[0m\u001b[1;33m\u001b[0m\u001b[1;33m\u001b[0m\u001b[0m\n\u001b[0m\u001b[0;32m     12\u001b[0m     \u001b[1;31m# Obtenemos el encabezado de la noticia promocionada\u001b[0m\u001b[1;33m\u001b[0m\u001b[1;33m\u001b[0m\u001b[0m\n\u001b[0;32m     13\u001b[0m     \u001b[0mpromoted_header\u001b[0m \u001b[1;33m=\u001b[0m \u001b[0mpromoted_item\u001b[0m\u001b[1;33m.\u001b[0m\u001b[0mfind\u001b[0m\u001b[1;33m(\u001b[0m\u001b[1;34m'div'\u001b[0m\u001b[1;33m,\u001b[0m \u001b[0mattrs\u001b[0m \u001b[1;33m=\u001b[0m \u001b[1;33m{\u001b[0m\u001b[1;34m'class'\u001b[0m\u001b[1;33m:\u001b[0m \u001b[1;34m'article-item__content-footer-wrapper gutter-small deco-bar-here-left is-mobile-top'\u001b[0m\u001b[1;33m}\u001b[0m\u001b[1;33m)\u001b[0m\u001b[1;33m.\u001b[0m\u001b[0mdiv\u001b[0m\u001b[1;33m.\u001b[0m\u001b[0mh2\u001b[0m\u001b[1;33m.\u001b[0m\u001b[0ma\u001b[0m\u001b[1;33m.\u001b[0m\u001b[0mget_text\u001b[0m\u001b[1;33m(\u001b[0m\u001b[1;33m)\u001b[0m\u001b[1;33m\u001b[0m\u001b[1;33m\u001b[0m\u001b[0m\n",
      "\u001b[1;31mAttributeError\u001b[0m: 'NoneType' object has no attribute 'a'"
     ]
    }
   ],
   "source": [
    "for i in range(len(headers)):\n",
    "    print(headers[i] + \": \" + links[i])\n",
    "    get_news(links[i])\n",
    "    print(\"\")"
   ]
  }
 ],
 "metadata": {
  "kernelspec": {
   "display_name": "Python 3 (ipykernel)",
   "language": "python",
   "name": "python3"
  },
  "language_info": {
   "codemirror_mode": {
    "name": "ipython",
    "version": 3
   },
   "file_extension": ".py",
   "mimetype": "text/x-python",
   "name": "python",
   "nbconvert_exporter": "python",
   "pygments_lexer": "ipython3",
   "version": "3.9.7"
  }
 },
 "nbformat": 4,
 "nbformat_minor": 5
}
